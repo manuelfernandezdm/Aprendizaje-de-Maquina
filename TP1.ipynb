{
  "nbformat": 4,
  "nbformat_minor": 0,
  "metadata": {
    "colab": {
      "name": "TP1",
      "provenance": [],
      "authorship_tag": "ABX9TyOmIjlkoZ5//g1vAFA2YLft",
      "include_colab_link": true
    },
    "kernelspec": {
      "name": "python3",
      "display_name": "Python 3"
    },
    "language_info": {
      "name": "python"
    }
  },
  "cells": [
    {
      "cell_type": "markdown",
      "metadata": {
        "id": "view-in-github",
        "colab_type": "text"
      },
      "source": [
        "<a href=\"https://colab.research.google.com/github/manufernandz/Aprendizaje-de-Maquina/blob/main/TP1.ipynb\" target=\"_parent\"><img src=\"https://colab.research.google.com/assets/colab-badge.svg\" alt=\"Open In Colab\"/></a>"
      ]
    },
    {
      "cell_type": "markdown",
      "source": [
        "# **Aprendizaje de Maquina - TP 1 - Clase 2.**\n",
        "# El cuarteto de Anscombe\n",
        "\n",
        "* hay 4 datasets: I, II, III, IV.\n",
        "* y 4 pares de puntos: [16,8], [8,6], [16,10] y [16,6]\n",
        "  * ¿ a que dataset corresponde cada punto?\n"
      ],
      "metadata": {
        "id": "lmttdaX8D9UL"
      }
    },
    {
      "cell_type": "markdown",
      "source": [
        "#Conjunto de datos:"
      ],
      "metadata": {
        "id": "5R0uQ9ucGW-C"
      }
    },
    {
      "cell_type": "code",
      "execution_count": 2,
      "metadata": {
        "id": "9uYHy21ED8Mk"
      },
      "outputs": [],
      "source": [
        "# Datasets\n",
        "x = [10, 8, 13, 9, 11, 14, 6, 4, 12, 7, 5]\n",
        "y1 = [8.04, 6.95, 7.58, 8.81, 8.33, 9.96, 7.24, 4.26, 10.84, 4.82, 5.68]\n",
        "y2 = [9.14, 8.14, 8.74, 8.77, 9.26, 8.1, 6.13, 3.1, 9.13, 7.26, 4.74]\n",
        "y3 = [7.46, 6.77, 12.74, 7.11, 7.81, 8.84, 6.08, 5.39, 8.15, 6.42, 5.73]\n",
        "x4 = [8, 8, 8, 8, 8, 8, 8, 19, 8, 8, 8]\n",
        "y4 = [6.58, 5.76, 7.71, 8.84, 8.47, 7.04, 5.25, 12.50, 5.56, 7.91, 6.89]\n",
        "\n",
        "#Puntos\n",
        "puntos_x = [16, 8, 16, 16]\n",
        "puntos_y = [8, 6, 10, 6]\n"
      ]
    },
    {
      "cell_type": "markdown",
      "source": [
        "#Grafico de los datos:"
      ],
      "metadata": {
        "id": "trDDtgkoGdjW"
      }
    },
    {
      "cell_type": "code",
      "source": [
        "import matplotlib.pyplot as plt\n",
        "\n",
        "#Grafico dataset 1\n",
        "plt.title(\"Dataset 1\")\n",
        "plt.scatter(x, y1, color= \"blue\")\n",
        "plt.scatter(puntos_x, puntos_y, color=\"red\")\n",
        "plt.xlim(3,17)\n",
        "plt.ylim(2,13)\n",
        "plt.show()\n",
        "#Grafico dataset 2\n",
        "plt.title(\"Dataset 2\")\n",
        "plt.scatter(x, y2, color= \"blue\")\n",
        "plt.scatter(puntos_x, puntos_y, color=\"red\")\n",
        "plt.xlim(3,17)\n",
        "plt.ylim(2,13)\n",
        "plt.show()\n",
        "#Grafico dataset 3\n",
        "plt.title(\"Dataset 3\")\n",
        "plt.scatter(x, y3, color= \"blue\")\n",
        "plt.scatter(puntos_x, puntos_y, color=\"red\")\n",
        "plt.xlim(3,17)\n",
        "plt.ylim(2,13)\n",
        "plt.show()\n",
        "#Grafico dataset 4\n",
        "plt.title(\"Dataset 4\")\n",
        "plt.scatter(x4, y4, color= \"blue\")\n",
        "plt.scatter(puntos_x, puntos_y, color=\"red\")\n",
        "plt.xlim(3,17)\n",
        "plt.ylim(2,13)\n",
        "plt.show()"
      ],
      "metadata": {
        "colab": {
          "base_uri": "https://localhost:8080/",
          "height": 1000
        },
        "id": "4SWG8bOJpIyN",
        "outputId": "89efc900-4bb9-45a6-9772-fd678ec57c41"
      },
      "execution_count": 4,
      "outputs": [
        {
          "output_type": "display_data",
          "data": {
            "text/plain": [
              "<Figure size 432x288 with 1 Axes>"
            ],
            "image/png": "[encoded data removed]"
          },
          "metadata": {
            "needs_background": "light"
          }
        },
        {
          "output_type": "display_data",
          "data": {
            "text/plain": [
              "<Figure size 432x288 with 1 Axes>"
            ],
            "image/png": "[encoded data removed]"
          },
          "metadata": {
            "needs_background": "light"
          }
        },
        {
          "output_type": "display_data",
          "data": {
            "text/plain": [
              "<Figure size 432x288 with 1 Axes>"
            ],
            "image/png": "[encoded data removed]"
          },
          "metadata": {
            "needs_background": "light"
          }
        },
        {
          "output_type": "display_data",
          "data": {
            "text/plain": [
              "<Figure size 432x288 with 1 Axes>"
            ],
            "image/png": "[encoded data removed]"
          },
          "metadata": {
            "needs_background": "light"
          }
        }
      ]
    },
    {
      "cell_type": "markdown",
      "source": [
        "# Analisis de los resultados\n",
        "* es posible identificar a que dataset corresponde cada punto mirando el grafico de cada uno.\n",
        "\n",
        "## CONCLUSION\n",
        "Siempre graficar los datasets para darnos unos idea de lo que estamos manipulando."
      ],
      "metadata": {
        "id": "ix4G_P0zs6y1"
      }
    }
  ]
}